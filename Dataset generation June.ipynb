{
 "cells": [
  {
   "cell_type": "markdown",
   "id": "a978b589",
   "metadata": {},
   "source": [
    "## Set up"
   ]
  },
  {
   "cell_type": "markdown",
   "id": "9c2a24e3",
   "metadata": {},
   "source": [
    "### Package imports"
   ]
  },
  {
   "cell_type": "code",
   "execution_count": 1,
   "id": "cc7c17f9-bca3-44e5-b665-942a8cc73975",
   "metadata": {},
   "outputs": [],
   "source": [
    "# Import packages\n",
    "from pathlib import Path\n",
    "import numpy as np\n",
    "from numpy.random import MT19937\n",
    "from numpy.random import RandomState, SeedSequence\n",
    "import pandas as pd\n",
    "import random\n",
    "from pdb import set_trace\n",
    "from sklearn.preprocessing import QuantileTransformer\n",
    "from scipy.stats import gaussian_kde\n",
    "import matplotlib.pyplot as plt"
   ]
  },
  {
   "cell_type": "markdown",
   "id": "41cfb7cc",
   "metadata": {},
   "source": [
    "### Set seed function"
   ]
  },
  {
   "cell_type": "code",
   "execution_count": 2,
   "id": "688d65a3",
   "metadata": {},
   "outputs": [],
   "source": [
    "def set_seed(seed):\n",
    "    random.seed(seed)\n",
    "    np.random.seed(seed)\n",
    "    rs = RandomState(MT19937(SeedSequence(seed)))"
   ]
  },
  {
   "cell_type": "markdown",
   "id": "cfe99db0",
   "metadata": {},
   "source": [
    "### File path"
   ]
  },
  {
   "cell_type": "code",
   "execution_count": 3,
   "id": "45501b52",
   "metadata": {},
   "outputs": [],
   "source": [
    "# File path\n",
    "raw_data_path = '/home/ec2-user/Jul2025/raw_datasets/'\n",
    "label_path = '/home/ec2-user/Jul2025/labels/'\n",
    "output_path = '/home/ec2-user/Jul2025/processed_dataset3/'"
   ]
  },
  {
   "cell_type": "markdown",
   "id": "e5b6cb03",
   "metadata": {},
   "source": [
    "### Functions"
   ]
  },
  {
   "cell_type": "code",
   "execution_count": 4,
   "id": "d4f38fb2",
   "metadata": {},
   "outputs": [],
   "source": [
    "def Gaussian_KDE(df1, df2):\n",
    "    \"\"\"\n",
    "    Function to generate synthetic data using Gaussian KDE.\n",
    "    Args:\n",
    "        df1: DataFrame 1 (e.g., Protein/mRNA abundance for Single set)\n",
    "        df2: DataFrame 2 (e.g., mRNA abundance for Dual set, optional)\n",
    "        Canvas_Size: Target size for the final dataset (rows x columns)\n",
    "    Returns:\n",
    "        final_df: Original data with synthetic data appended\n",
    "    \"\"\"\n",
    "    # Placeholder for synthetic data\n",
    "    synthetic_data = []\n",
    "\n",
    "    # Assert df1 and df2 have the same number of columns\n",
    "    assert df1.columns.size == df2.columns.size\n",
    "\n",
    "    # Transpose the DataFrames for easier column-wise processing\n",
    "    df1 = df1.T\n",
    "    df2 = df2.T\n",
    "\n",
    "    for _ in range(int((18 * 18 - df1.index.size * 2) / 2)):\n",
    "        synthetic_row = []\n",
    "        for col1, col2 in zip(df1.columns, df2.columns):\n",
    "            # Get the abundance values for the joint distribution\n",
    "            x = df1[col1].values\n",
    "            y = df2[col2].values\n",
    "            \n",
    "            # Combine x and y for joint KDE\n",
    "            data = np.vstack([x, y])\n",
    "            \n",
    "            # Fit a joint KDE\n",
    "            kde = gaussian_kde(data)\n",
    "            \n",
    "            # Sample from the joint KDE\n",
    "            sample = kde.resample(1)\n",
    "            sampled_x, sampled_y = sample[0][0], sample[1][0]\n",
    "            \n",
    "            # Add sampled values to the synthetic row\n",
    "            synthetic_row.append(sampled_x)  # For protein\n",
    "            synthetic_row.append(sampled_y)  # For mRNA\n",
    "        \n",
    "        synthetic_data.append(synthetic_row)\n",
    "\n",
    "    # Convert synthetic data to a new DataFrame\n",
    "    print('Synthetic data generated')\n",
    "\n",
    "    # For Dual, split the synthetic data into two parts\n",
    "    synthetic_df1 = pd.DataFrame([row[::2] for row in synthetic_data], columns=df1.columns)\n",
    "    synthetic_df2 = pd.DataFrame([row[1::2] for row in synthetic_data], columns=df2.columns)\n",
    "    # Combine synthetic with original\n",
    "    final_df1 = pd.concat([df1, synthetic_df1], axis=0)\n",
    "    final_df2 = pd.concat([df2, synthetic_df2], axis=0)\n",
    "\n",
    "    final_df1 = final_df1.T\n",
    "    final_df2 = final_df2.T\n",
    "\n",
    "    return final_df1, final_df2"
   ]
  },
  {
   "cell_type": "code",
   "execution_count": 5,
   "id": "6b673bd1",
   "metadata": {},
   "outputs": [],
   "source": [
    "def Normalization(df):\n",
    "\n",
    "    \"\"\"\n",
    "    Normalization across tumors in raw data for protein or mRNA expression.\n",
    "    \"\"\"\n",
    "    \n",
    "    # Normalize Each Gene Across Tumors \n",
    "    df = df.div(df.mean(axis=1),axis=0)\n",
    "\n",
    "    # Normalize Tumors for Cross-Tumor Comparability\n",
    "    df = df.div(df.median(axis=0), axis=1)\n",
    "\n",
    "    # Log2 Transformation\n",
    "    df = np.log2(df)\n",
    "\n",
    "    return df"
   ]
  },
  {
   "cell_type": "code",
   "execution_count": 6,
   "id": "a4cd0adf",
   "metadata": {},
   "outputs": [],
   "source": [
    "def VisualizeData(PD, MD):\n",
    "    # Create a figure\n",
    "    plt.figure(figsize=(12, 12))\n",
    "\n",
    "    # Create a subplot for PD boxplot\n",
    "    plt.subplot(2, 2, 1)\n",
    "    plt.boxplot(PD.values)\n",
    "    plt.title('Proteome')\n",
    "    plt.xlabel('Tumors')\n",
    "    plt.ylabel('Abundances')\n",
    "    plt.xticks([])\n",
    "\n",
    "    # Create a subplot for MD boxplot\n",
    "    plt.subplot(2, 2, 2)\n",
    "    plt.boxplot(MD.values)\n",
    "    plt.title('Transcriptome')\n",
    "    plt.xlabel('Tumors')\n",
    "    plt.ylabel('Abundances')\n",
    "    plt.xticks([])\n",
    "\n",
    "    # Create a subplot for PD histogram\n",
    "    plt.subplot(2, 2, 3)\n",
    "    plt.hist(PD.values.flatten(), bins=500)\n",
    "    plt.title('Proteome')\n",
    "    plt.xlabel('Tumors')\n",
    "    plt.ylabel('Count')\n",
    "\n",
    "    # Create a subplot for MD histogram\n",
    "    plt.subplot(2, 2, 4)\n",
    "    plt.hist(MD.values.flatten(), bins=500)\n",
    "    plt.title('Transcriptome')\n",
    "    plt.xlabel('Tumors')\n",
    "    plt.ylabel('Count')\n",
    "\n",
    "    plt.tight_layout()\n",
    "    plt.show()"
   ]
  },
  {
   "cell_type": "markdown",
   "id": "75bddf21",
   "metadata": {},
   "source": [
    "## Create dataframes"
   ]
  },
  {
   "cell_type": "markdown",
   "id": "a37a64a4",
   "metadata": {},
   "source": [
    "### Preparing data for Krug"
   ]
  },
  {
   "cell_type": "markdown",
   "id": "d7b3d82b",
   "metadata": {},
   "source": [
    "#### Raw data proceesing"
   ]
  },
  {
   "cell_type": "code",
   "execution_count": 7,
   "id": "0897a6ea",
   "metadata": {},
   "outputs": [],
   "source": [
    "# Open the proteomics data and only keep genes (rows) that are fully quantified\n",
    "#PFP = 'kr_pro_raw copy.csv' # tumor standardized with mean and std, 2-component Gaussian mixture model-based normalization for gene\n",
    "#PFP = 'kr_pro_raw.csv' # LethioDDA search: proteomics file (genes table) path, normalized by pool, log2 transformed.\n",
    "PFP = 'krug prot model use.csv' # MSFragger search, abundances are ratio of channel to pool, no transformation\n",
    "PD = pd.read_csv(raw_data_path+PFP)\n",
    "\n",
    "# Indexing and remove NA\n",
    "PD.index = PD.loc[:,'Index']\n",
    "PD = PD.loc[:,PD.columns!='Index'] # Shape (12372, 135)\n",
    "PD.dropna(inplace=True) # Shape (8481, 135)\n",
    "\n",
    "# Remove tumors that contain keyword 'notinstudy': 3 tumors are not in the study\n",
    "PD = PD.loc[:,~PD.columns.str.contains('notinstudy')]\n",
    "\n",
    "# Remove tumors that contain keyword 'Retro': 2 tumors are RetroIR\n",
    "PD = PD.loc[:,~PD.columns.str.contains('Retro')]\n",
    "\n",
    "# Find tumors that contain keyword 'REP'\n",
    "rep_cols = PD.columns[PD.columns.str.contains('REP')]\n",
    "\n",
    "# Extract tumors' name that has replicates\n",
    "rep_tumors = set(col.split('.')[0] for col in rep_cols)\n",
    "\n",
    "# Find columns that match the names in rep_tumors, take average and save it under the tumor name that without REP\n",
    "for rep_tumor in rep_tumors:\n",
    "    replicates = PD.columns[PD.columns.str.contains(rep_tumor)]\n",
    "    PD[rep_tumor] = PD[replicates].mean(axis=1) # Overwrite the original tumor with the average of the replicates\n",
    "    # Drop the REP column of the rep_tumor only\n",
    "    replicate_cols = PD.columns[PD.columns.str.contains(rep_tumor+'.REP')]\n",
    "    PD.drop(replicate_cols, axis=1, inplace=True) # Drop the replicate columns\n",
    "\n",
    "# Drop tumor X03BR011 because it has no mRNA data\n",
    "PD.drop('X03BR011', axis=1, inplace=True)\n",
    "\n",
    "# Sort the column names in the dataframe\n",
    "PD = PD.reindex(sorted(PD.columns), axis=1) # Shape (8481, 121)"
   ]
  },
  {
   "cell_type": "code",
   "execution_count": 8,
   "id": "a997d0fb",
   "metadata": {},
   "outputs": [],
   "source": [
    "# Open the mRNA data and only keep genes (rows) that are fully quantified\n",
    "#MFP = 'kr_rna_raw.csv' # mRNA file path, log2 transformed\n",
    "MFP = 'krug mrna model use.csv' # TPM data, untransformed\n",
    "MD = pd.read_csv(raw_data_path+MFP)\n",
    "\n",
    "# Data set wrangling\n",
    "MD.index = MD.loc[:,'Index']\n",
    "MD = MD.loc[:,MD.columns!='Index'] # Shape (19938, 121)\n",
    "MD.dropna(inplace=True) # Shape (19938, 121)\n",
    "\n",
    "# Drop if any gene that contains 0 read of TPM\n",
    "MD = MD.loc[~(MD==0).any(axis=1)] # Shape (13627, 121)\n",
    "\n",
    "# Sort the column names in the dataframe\n",
    "MD = MD.reindex(sorted(MD.columns), axis=1) # Shape (13627, 121)"
   ]
  },
  {
   "cell_type": "markdown",
   "id": "ac037878",
   "metadata": {},
   "source": [
    "#### Normalization"
   ]
  },
  {
   "cell_type": "code",
   "execution_count": 9,
   "id": "eb7b722e",
   "metadata": {},
   "outputs": [],
   "source": [
    "# Visualize the processed data with boxplot and histogram\n",
    "PD_norm = Normalization(PD)\n",
    "MD_norm = Normalization(MD)"
   ]
  },
  {
   "cell_type": "markdown",
   "id": "45e6603d",
   "metadata": {},
   "source": [
    "#### Quantile transform"
   ]
  },
  {
   "cell_type": "code",
   "execution_count": 10,
   "id": "119b5784",
   "metadata": {},
   "outputs": [],
   "source": [
    "# Quantile transform each gene\n",
    "PD_qt = pd.DataFrame(QuantileTransformer(output_distribution='normal',random_state=42).fit_transform(PD_norm), index=PD_norm.index, columns=PD_norm.columns)\n",
    "MD_qt = pd.DataFrame(QuantileTransformer(output_distribution='normal',random_state=43).fit_transform(MD_norm), index=MD_norm.index, columns=MD_norm.columns)"
   ]
  },
  {
   "cell_type": "markdown",
   "id": "68cc25d5",
   "metadata": {},
   "source": [
    "#### Match gene name in proteome and transcriptome"
   ]
  },
  {
   "cell_type": "code",
   "execution_count": 11,
   "id": "5f0edb63",
   "metadata": {},
   "outputs": [],
   "source": [
    "common_genes = PD_qt.index.intersection(MD_qt.index)\n",
    "PD_qt = PD_qt.loc[common_genes]\n",
    "MD_qt = MD_qt.loc[common_genes]"
   ]
  },
  {
   "cell_type": "markdown",
   "id": "4d089d68",
   "metadata": {},
   "source": [
    "#### Inferencing"
   ]
  },
  {
   "cell_type": "code",
   "execution_count": 12,
   "id": "f9823f1d",
   "metadata": {},
   "outputs": [
    {
     "name": "stdout",
     "output_type": "stream",
     "text": [
      "Synthetic data generated\n"
     ]
    }
   ],
   "source": [
    "# Ensure reproducibility\n",
    "set_seed(42)\n",
    "\n",
    "# Synthetic tumors using gaussian KDE\n",
    "PD_kde, MD_kde = Gaussian_KDE(PD_qt, MD_qt)"
   ]
  },
  {
   "cell_type": "markdown",
   "id": "14f373bb",
   "metadata": {},
   "source": [
    "#### Filter out genes that has labels"
   ]
  },
  {
   "cell_type": "code",
   "execution_count": 13,
   "id": "29aafbc7",
   "metadata": {},
   "outputs": [],
   "source": [
    "# Open the labels data\n",
    "LFP = 'markers.txt'\n",
    "LD = pd.read_csv(filepath_or_buffer=label_path+LFP,sep='\\t')\n",
    "\n",
    "# Data set wrangling\n",
    "LD.index = LD.loc[:,'Protein']\n",
    "LD = LD.loc[:,LD.columns!='Protein']\n",
    "\n",
    "# Remove unclassified class\n",
    "NotUnclassInd = LD.loc[:,'Localization'] != 'Unclassified'\n",
    "LD = LD.loc[NotUnclassInd,:]"
   ]
  },
  {
   "cell_type": "code",
   "execution_count": 14,
   "id": "20465a69",
   "metadata": {},
   "outputs": [
    {
     "name": "stdout",
     "output_type": "stream",
     "text": [
      "Krug\n",
      "2693\n",
      "2693\n",
      "2693\n"
     ]
    }
   ],
   "source": [
    "# Keep only genes (rows) are presented in proteome, mRNA and localization data sets\n",
    "IntersectingGenes = [value for value in PD_kde.index if ((value in MD_kde.index) & (value in LD.index))]\n",
    "PD_kde = PD_kde.loc[IntersectingGenes,:]\n",
    "MD_kde = MD_kde.loc[IntersectingGenes,:]\n",
    "LD = LD.loc[IntersectingGenes,:]\n",
    "\n",
    "# Sanity check for the number of genes in each dataframe\n",
    "print('Krug')\n",
    "print(len(PD_kde.index))\n",
    "print(len(MD_kde.index))\n",
    "print(len(LD.index))"
   ]
  },
  {
   "cell_type": "code",
   "execution_count": 15,
   "id": "50f692d3",
   "metadata": {},
   "outputs": [
    {
     "name": "stdout",
     "output_type": "stream",
     "text": [
      "Number of genes in each localization class:\n",
      "Localization\n",
      "Cytosol         1036\n",
      "Secretory        769\n",
      "Nucleus          624\n",
      "Mitochondria     264\n",
      "Name: count, dtype: int64\n"
     ]
    }
   ],
   "source": [
    "# Count the number of genes in each localization class\n",
    "LocalizationCounts = LD.loc[:,'Localization'].value_counts()\n",
    "print('Number of genes in each localization class:')\n",
    "print(LocalizationCounts)"
   ]
  },
  {
   "cell_type": "markdown",
   "id": "baed5bdf",
   "metadata": {},
   "source": [
    "### Preparing data for Mertins"
   ]
  },
  {
   "cell_type": "markdown",
   "id": "1fcb67b2",
   "metadata": {},
   "source": [
    "#### Raw data processing"
   ]
  },
  {
   "cell_type": "code",
   "execution_count": 16,
   "id": "5ba9ba30",
   "metadata": {},
   "outputs": [],
   "source": [
    "# Mertins data set\n",
    "# Open the proteomics data and only keep genes (rows) that are fully quantified\n",
    "#M_PFP = 'me_protein_dropna.csv' # proteomics file path, normalized by pool, log2 transformed.\n",
    "M_PFP = 'mertins prot model use.csv' # MSFragger search, abundances are ratio of channel to pool, no transformation\n",
    "M_PD = pd.read_csv(raw_data_path+M_PFP)\n",
    "\n",
    "# Data set wrangling\n",
    "M_PD.index = M_PD.loc[:,'Index']\n",
    "M_PD = M_PD.loc[:,M_PD.columns!='Index'] # Shape (12302, 111)\n",
    "M_PD.dropna(inplace=True) # Shape (7064, 111)\n",
    "\n",
    "# Remove tumors that contain keyword 'notinstudy': 28 tumors are not in the study\n",
    "M_PD = M_PD.loc[:,~M_PD.columns.str.contains('notinstudy')]\n",
    "\n",
    "# Find tumors that contain keyword 'REP'\n",
    "M_PD_rep_cols = M_PD.columns[M_PD.columns.str.contains('REP')]\n",
    "\n",
    "# Extract tumors' name that has replicates\n",
    "M_PD_rep_tumors = set(col.split('.')[0] for col in M_PD_rep_cols)\n",
    "\n",
    "# Find columns that match the names in rep_tumors, take average and save it under the tumor name that without REP\n",
    "for M_PD_rep_tumor in M_PD_rep_tumors:\n",
    "    M_PD_replicates = M_PD.columns[M_PD.columns.str.contains(M_PD_rep_tumor)]\n",
    "    M_PD[M_PD_rep_tumor] = M_PD[M_PD_replicates].mean(axis=1) # Overwrite the original tumor with the average of the replicates\n",
    "    # Drop the REP column of the rep_tumor only\n",
    "    M_PD_replicate_cols = M_PD.columns[M_PD.columns.str.contains(M_PD_rep_tumor+'.REP')]\n",
    "    M_PD.drop(M_PD_replicate_cols, axis=1, inplace=True) # Drop the replicate columns\n",
    "\n",
    "# Sort the column names in the dataframe\n",
    "M_PD = M_PD.reindex(sorted(M_PD.columns), axis=1) # Shape (7064, 77)"
   ]
  },
  {
   "cell_type": "code",
   "execution_count": 17,
   "id": "3948c0d5",
   "metadata": {},
   "outputs": [],
   "source": [
    "# Open the mRNA data and only keep genes (rows) that are fully quantified\n",
    "#M_MFP = 'me_rna_dropna.csv' # mRNA file path, gene centric median normalized, log2 transformed\n",
    "M_MFP = 'mertins mrna model use.csv' # TPM data, untransformed\n",
    "M_MD = pd.read_csv(raw_data_path+M_MFP)\n",
    "\n",
    "# Data set wrangling\n",
    "M_MD.index = M_MD.loc[:,'gene_name']\n",
    "M_MD = M_MD.loc[:,M_MD.columns!='gene_name'] # Shape (19938, 77)\n",
    "\n",
    "#M_MD = M_MD.drop_duplicates() # Shape (19292, 77)\n",
    "\n",
    "M_MD.dropna(inplace=True) # Shape (19292, 77)\n",
    "\n",
    "# Drop if any gene that contains 0 read of TPM (5063 genes are dropped, still have 6706 in common with PD)\n",
    "M_MD = M_MD.loc[~(M_MD==0).any(axis=1)] # Shape (14229, 77)\n",
    "\n",
    "# Sort the column names in the dataframe\n",
    "M_MD = M_MD.reindex(sorted(M_MD.columns), axis=1) # Shape (14229, 77)"
   ]
  },
  {
   "cell_type": "markdown",
   "id": "baf71cb4",
   "metadata": {},
   "source": [
    "#### Normalization"
   ]
  },
  {
   "cell_type": "code",
   "execution_count": 18,
   "id": "2cd15e00",
   "metadata": {},
   "outputs": [],
   "source": [
    "# Visualize the processed data with boxplot and histogram\n",
    "M_PD_norm = Normalization(M_PD)\n",
    "M_MD_norm = Normalization(M_MD)"
   ]
  },
  {
   "cell_type": "markdown",
   "id": "9a33cf82",
   "metadata": {},
   "source": [
    "#### Quantile transform"
   ]
  },
  {
   "cell_type": "code",
   "execution_count": 19,
   "id": "504dfe93",
   "metadata": {},
   "outputs": [],
   "source": [
    "#Quantile transformation\n",
    "M_PD_qt = pd.DataFrame(QuantileTransformer(output_distribution='normal',random_state=42).fit_transform(M_PD_norm), index=M_PD_norm.index, columns=M_PD_norm.columns)\n",
    "M_MD_qt = pd.DataFrame(QuantileTransformer(output_distribution='normal',random_state=43).fit_transform(M_MD_norm), index=M_MD_norm.index, columns=M_MD_norm.columns)"
   ]
  },
  {
   "cell_type": "markdown",
   "id": "9fc2be38",
   "metadata": {},
   "source": [
    "#### Match gene name in proteome and transcriptome"
   ]
  },
  {
   "cell_type": "code",
   "execution_count": 20,
   "id": "67fdbf28",
   "metadata": {},
   "outputs": [],
   "source": [
    "common_genes = M_PD_qt.index.intersection(M_MD_qt.index)\n",
    "M_PD_qt = M_PD_qt.loc[common_genes]\n",
    "M_MD_qt = M_MD_qt.loc[common_genes]"
   ]
  },
  {
   "cell_type": "markdown",
   "id": "0ad6899a",
   "metadata": {},
   "source": [
    "#### Inferencing"
   ]
  },
  {
   "cell_type": "code",
   "execution_count": 21,
   "id": "8e0c4551",
   "metadata": {},
   "outputs": [
    {
     "name": "stdout",
     "output_type": "stream",
     "text": [
      "Synthetic data generated\n"
     ]
    }
   ],
   "source": [
    "# Ensure reproducibility\n",
    "set_seed(44)\n",
    "\n",
    "# Synthetic tumors using gaussian KDE\n",
    "M_PD_kde, M_MD_kde = Gaussian_KDE(M_PD_qt, M_MD_qt)"
   ]
  },
  {
   "cell_type": "markdown",
   "id": "290b20b5",
   "metadata": {},
   "source": [
    "#### Filter out genes that has labels"
   ]
  },
  {
   "cell_type": "code",
   "execution_count": 22,
   "id": "89aa2bd8",
   "metadata": {},
   "outputs": [],
   "source": [
    "# Open the labels data\n",
    "LFP = 'markers.txt'\n",
    "LD = pd.read_csv(filepath_or_buffer=label_path+LFP,sep='\\t')\n",
    "\n",
    "# Data set wrangling\n",
    "LD.index = LD.loc[:,'Protein']\n",
    "LD = LD.loc[:,LD.columns!='Protein']\n",
    "\n",
    "# Remove unclassified class\n",
    "NotUnclassInd = LD.loc[:,'Localization'] != 'Unclassified'\n",
    "LD = LD.loc[NotUnclassInd,:]"
   ]
  },
  {
   "cell_type": "code",
   "execution_count": 23,
   "id": "567c57fd",
   "metadata": {},
   "outputs": [
    {
     "name": "stdout",
     "output_type": "stream",
     "text": [
      "Mertin\n",
      "2355\n",
      "2355\n",
      "2355\n"
     ]
    }
   ],
   "source": [
    "# Keep only genes (rows) are presented in proteome, mRNA and localization data sets\n",
    "IntersectingGenes = [value for value in M_PD_kde.index if ((value in M_MD_kde.index) & (value in LD.index))]\n",
    "M_PD_kde = M_PD_kde.loc[IntersectingGenes,:]\n",
    "M_MD_kde = M_MD_kde.loc[IntersectingGenes,:]\n",
    "LD = LD.loc[IntersectingGenes,:]\n",
    "\n",
    "# Sanity check for the number of genes in each dataframe\n",
    "print('Mertin')\n",
    "print(len(M_PD_kde.index))\n",
    "print(len(M_MD_kde.index))\n",
    "print(len(LD.index))"
   ]
  },
  {
   "cell_type": "code",
   "execution_count": 24,
   "id": "8078b8d9",
   "metadata": {},
   "outputs": [
    {
     "name": "stdout",
     "output_type": "stream",
     "text": [
      "Number of genes in each localization class:\n",
      "Localization\n",
      "Cytosol         982\n",
      "Secretory       580\n",
      "Nucleus         550\n",
      "Mitochondria    243\n",
      "Name: count, dtype: int64\n"
     ]
    }
   ],
   "source": [
    "# Count the number of genes in each localization class\n",
    "LocalizationCounts = LD.loc[:,'Localization'].value_counts()\n",
    "print('Number of genes in each localization class:')\n",
    "print(LocalizationCounts)"
   ]
  },
  {
   "cell_type": "markdown",
   "id": "09749355",
   "metadata": {},
   "source": [
    "### Preparing data for LCSCC Tumor"
   ]
  },
  {
   "cell_type": "markdown",
   "id": "e083e75f",
   "metadata": {},
   "source": [
    "#### Raw data processing"
   ]
  },
  {
   "cell_type": "code",
   "execution_count": 25,
   "id": "fc9154e0",
   "metadata": {},
   "outputs": [],
   "source": [
    "# Open the proteomics data and only keep genes (rows) that are fully quantified\n",
    "lung_tumor_PFP = 'lcscc tumor prot model use.csv' # MSFragger search, abundances are ratio of channel to pool, no transformation\n",
    "lung_tumor_PD = pd.read_csv(raw_data_path+lung_tumor_PFP, index_col=0) # Shape (13506, 108)\n",
    "\n",
    "# Remove NA\n",
    "lung_tumor_PD.dropna(inplace=True) # Shape (9051, 108)\n",
    "\n",
    "# Check if any index is duplicated, if so, average the duplicates\n",
    "lung_tumor_PD = lung_tumor_PD.groupby(lung_tumor_PD.index).mean()\n",
    "\n",
    "# Sort the column names in the dataframe\n",
    "lung_tumor_PD = lung_tumor_PD.reindex(sorted(lung_tumor_PD.columns), axis=1) # Shape (8481, 108)"
   ]
  },
  {
   "cell_type": "code",
   "execution_count": 26,
   "id": "7dcecd28",
   "metadata": {},
   "outputs": [],
   "source": [
    "# Open the mRNA data and only keep genes (rows) that are fully quantified\n",
    "lung_tumor_MFP = 'lcscc tumor mrna model use.csv' # TPM data, untransformed\n",
    "lung_tumor_MD = pd.read_csv(raw_data_path+lung_tumor_MFP, index_col=0) # Shape (19938, 108)\n",
    "\n",
    "# Data set wrangling\n",
    "lung_tumor_MD.dropna(inplace=True) # Shape (19938, 108)\n",
    "\n",
    "# Drop if any gene that contains 0 read of TPM\n",
    "lung_tumor_MD = lung_tumor_MD.loc[~(lung_tumor_MD==0).any(axis=1)] # Shape (15387, 108)\n",
    "\n",
    "# Check if any index is duplicated, if so, average the duplicates\n",
    "lung_tumor_MD = lung_tumor_MD.groupby(lung_tumor_MD.index).mean()\n",
    "\n",
    "# Sort the column names in the dataframe\n",
    "lung_tumor_MD = lung_tumor_MD.reindex(sorted(lung_tumor_MD.columns), axis=1) # Shape (15387, 108)"
   ]
  },
  {
   "cell_type": "markdown",
   "id": "f97177c8",
   "metadata": {},
   "source": [
    "#### Normalization"
   ]
  },
  {
   "cell_type": "code",
   "execution_count": 27,
   "id": "c7dd82c3",
   "metadata": {},
   "outputs": [],
   "source": [
    "# Visualize the processed data with boxplot and histogram\n",
    "lung_tumor_PD_norm = Normalization(lung_tumor_PD)\n",
    "lung_tumor_MD_norm = Normalization(lung_tumor_MD)"
   ]
  },
  {
   "cell_type": "markdown",
   "id": "a5f53120",
   "metadata": {},
   "source": [
    "#### Quantile transform"
   ]
  },
  {
   "cell_type": "code",
   "execution_count": 28,
   "id": "0e4a7211",
   "metadata": {},
   "outputs": [],
   "source": [
    "# Quantile transform each tumor\n",
    "lung_tumor_PD_qt = pd.DataFrame(QuantileTransformer(output_distribution='normal',random_state=42).fit_transform(lung_tumor_PD_norm), index=lung_tumor_PD_norm.index, columns=lung_tumor_PD_norm.columns)\n",
    "lung_tumor_MD_qt = pd.DataFrame(QuantileTransformer(output_distribution='normal',random_state=43).fit_transform(lung_tumor_MD_norm), index=lung_tumor_MD_norm.index, columns=lung_tumor_MD_norm.columns)"
   ]
  },
  {
   "cell_type": "markdown",
   "id": "1af7ddf3",
   "metadata": {},
   "source": [
    "#### Match gene name in proteome and transcriptome"
   ]
  },
  {
   "cell_type": "code",
   "execution_count": 29,
   "id": "3ac2ddc8",
   "metadata": {},
   "outputs": [],
   "source": [
    "common_genes = lung_tumor_PD_qt.index.intersection(lung_tumor_MD_qt.index)\n",
    "lung_tumor_PD_qt = lung_tumor_PD_qt.loc[common_genes]\n",
    "lung_tumor_MD_qt = lung_tumor_MD_qt.loc[common_genes]"
   ]
  },
  {
   "cell_type": "markdown",
   "id": "d6d6fa64",
   "metadata": {},
   "source": [
    "#### Inferencing"
   ]
  },
  {
   "cell_type": "code",
   "execution_count": 30,
   "id": "505acf0c",
   "metadata": {},
   "outputs": [
    {
     "name": "stdout",
     "output_type": "stream",
     "text": [
      "Synthetic data generated\n"
     ]
    }
   ],
   "source": [
    "# Ensure reproducibility\n",
    "set_seed(46)\n",
    "\n",
    "# Synthetic tumors using gaussian KDE\n",
    "lung_tumor_PD_kde, lung_tumor_MD_kde = Gaussian_KDE(lung_tumor_PD_qt, lung_tumor_MD_qt)"
   ]
  },
  {
   "cell_type": "markdown",
   "id": "52c87868",
   "metadata": {},
   "source": [
    "#### Filter out genes that has labels"
   ]
  },
  {
   "cell_type": "code",
   "execution_count": 31,
   "id": "b5d17a9c",
   "metadata": {},
   "outputs": [],
   "source": [
    "# Open the labels data\n",
    "LFP = 'markers.txt'\n",
    "lung_tumor_LD = pd.read_csv(filepath_or_buffer=label_path+LFP,sep='\\t')\n",
    "\n",
    "# Data set wrangling\n",
    "lung_tumor_LD.index = lung_tumor_LD.loc[:,'Protein']\n",
    "lung_tumor_LD = lung_tumor_LD.loc[:,lung_tumor_LD.columns!='Protein']\n",
    "\n",
    "# Remove unclassified class\n",
    "NotUnclassInd = lung_tumor_LD.loc[:,'Localization'] != 'Unclassified'\n",
    "lung_tumor_LD = lung_tumor_LD.loc[NotUnclassInd,:]"
   ]
  },
  {
   "cell_type": "code",
   "execution_count": 32,
   "id": "281156e2",
   "metadata": {},
   "outputs": [
    {
     "name": "stdout",
     "output_type": "stream",
     "text": [
      "LCSCC Tumor\n",
      "2788\n",
      "2788\n",
      "2788\n"
     ]
    }
   ],
   "source": [
    "# Keep only genes (rows) are presented in proteome, mRNA and localization data sets\n",
    "IntersectingGenes = [value for value in lung_tumor_PD_kde.index if ((value in lung_tumor_MD_kde.index) & (value in lung_tumor_LD.index))]\n",
    "lung_tumor_PD_kde = lung_tumor_PD_kde.loc[IntersectingGenes,:]\n",
    "lung_tumor_MD_kde = lung_tumor_MD_kde.loc[IntersectingGenes,:]\n",
    "lung_tumor_LD = lung_tumor_LD.loc[IntersectingGenes,:]\n",
    "\n",
    "# Sanity check for the number of genes in each dataframe\n",
    "print('LCSCC Tumor')\n",
    "print(len(lung_tumor_PD_kde.index))\n",
    "print(len(lung_tumor_MD_kde.index))\n",
    "print(len(lung_tumor_LD.index))"
   ]
  },
  {
   "cell_type": "code",
   "execution_count": 33,
   "id": "28b4136d",
   "metadata": {},
   "outputs": [
    {
     "name": "stdout",
     "output_type": "stream",
     "text": [
      "Number of genes in each localization class:\n",
      "Localization\n",
      "Cytosol         1035\n",
      "Secretory        864\n",
      "Nucleus          624\n",
      "Mitochondria     265\n",
      "Name: count, dtype: int64\n"
     ]
    }
   ],
   "source": [
    "# Count the number of genes in each localization class\n",
    "LocalizationCounts = lung_tumor_LD.loc[:,'Localization'].value_counts()\n",
    "print('Number of genes in each localization class:')\n",
    "print(LocalizationCounts)"
   ]
  },
  {
   "cell_type": "markdown",
   "id": "f2628911",
   "metadata": {},
   "source": [
    "### Preparing data for LCSCC NAT"
   ]
  },
  {
   "cell_type": "markdown",
   "id": "5544d00a",
   "metadata": {},
   "source": [
    "#### Raw data processing"
   ]
  },
  {
   "cell_type": "code",
   "execution_count": 34,
   "id": "8bc4f780",
   "metadata": {},
   "outputs": [],
   "source": [
    "# Open the proteomics data and only keep genes (rows) that are fully quantified\n",
    "lung_nat_PFP = 'lcscc nat prot model use.csv' # MSFragger search, abundances are ratio of channel to pool, no transformation\n",
    "lung_nat_PD = pd.read_csv(raw_data_path+lung_nat_PFP, index_col=0) # Shape (13506, 94)\n",
    "\n",
    "# Remove NA\n",
    "lung_nat_PD.dropna(inplace=True) # Shape (9047, 94)\n",
    "\n",
    "# Check if any index is duplicated, if so, average the duplicates\n",
    "lung_nat_PD = lung_nat_PD.groupby(lung_nat_PD.index).mean() # Shape (9041, 94)\n",
    "\n",
    "# Sort the column names in the dataframe\n",
    "lung_nat_PD = lung_nat_PD.reindex(sorted(lung_nat_PD.columns), axis=1) # Shape (9041, 94)"
   ]
  },
  {
   "cell_type": "code",
   "execution_count": 35,
   "id": "654f3cc2",
   "metadata": {},
   "outputs": [],
   "source": [
    "# Open the mRNA data and only keep genes (rows) that are fully quantified\n",
    "lung_nat_MFP = 'lcscc nat mrna model use.csv' # TPM data, untransformed\n",
    "lung_nat_MD = pd.read_csv(raw_data_path+lung_nat_MFP, index_col=0) # Shape (19938, 94)\n",
    "\n",
    "# Data set wrangling\n",
    "lung_nat_MD.dropna(inplace=True) # Shape (19938, 94)\n",
    "\n",
    "# Drop if any gene that contains 0 read of TPM\n",
    "lung_nat_MD = lung_nat_MD.loc[~(lung_nat_MD==0).any(axis=1)] # Shape (16095, 94)\n",
    "\n",
    "# Check if any index is duplicated, if so, average the duplicates\n",
    "lung_nat_MD = lung_nat_MD.groupby(lung_nat_MD.index).mean() # Shape (16095, 94)\n",
    "\n",
    "# Sort the column names in the dataframe\n",
    "lung_nat_MD = lung_nat_MD.reindex(sorted(lung_nat_MD.columns), axis=1) # Shape (16095, 94)"
   ]
  },
  {
   "cell_type": "markdown",
   "id": "0fe61999",
   "metadata": {},
   "source": [
    "#### Normalization"
   ]
  },
  {
   "cell_type": "code",
   "execution_count": 36,
   "id": "7ddf5d12",
   "metadata": {},
   "outputs": [],
   "source": [
    "# Visualize the processed data with boxplot and histogram\n",
    "lung_nat_PD_norm = Normalization(lung_nat_PD)\n",
    "lung_nat_MD_norm = Normalization(lung_nat_MD)"
   ]
  },
  {
   "cell_type": "markdown",
   "id": "113060bc",
   "metadata": {},
   "source": [
    "#### Quantile transform"
   ]
  },
  {
   "cell_type": "code",
   "execution_count": 37,
   "id": "5caf381e",
   "metadata": {},
   "outputs": [],
   "source": [
    "# Quantile transform each tumor\n",
    "lung_nat_PD_qt = pd.DataFrame(QuantileTransformer(output_distribution='normal',random_state=42).fit_transform(lung_nat_PD_norm), index=lung_nat_PD_norm.index, columns=lung_nat_PD_norm.columns)\n",
    "lung_nat_MD_qt = pd.DataFrame(QuantileTransformer(output_distribution='normal',random_state=43).fit_transform(lung_nat_MD_norm), index=lung_nat_MD_norm.index, columns=lung_nat_MD_norm.columns)"
   ]
  },
  {
   "cell_type": "markdown",
   "id": "12028ef4",
   "metadata": {},
   "source": [
    "#### Match gene name in proteome and transcriptome"
   ]
  },
  {
   "cell_type": "code",
   "execution_count": 38,
   "id": "f58efe5d",
   "metadata": {},
   "outputs": [],
   "source": [
    "common_genes = lung_nat_PD_qt.index.intersection(lung_nat_MD_qt.index)\n",
    "lung_nat_PD_qt = lung_nat_PD_qt.loc[common_genes]\n",
    "lung_nat_MD_qt = lung_nat_MD_qt.loc[common_genes]"
   ]
  },
  {
   "cell_type": "markdown",
   "id": "b06012a3",
   "metadata": {},
   "source": [
    "#### Inferencing"
   ]
  },
  {
   "cell_type": "code",
   "execution_count": 39,
   "id": "5826645e",
   "metadata": {},
   "outputs": [
    {
     "name": "stdout",
     "output_type": "stream",
     "text": [
      "Synthetic data generated\n"
     ]
    }
   ],
   "source": [
    "# Ensure reproducibility\n",
    "set_seed(48)\n",
    "\n",
    "# Synthetic tumors using gaussian KDE\n",
    "lung_nat_PD_kde, lung_nat_MD_kde = Gaussian_KDE(lung_nat_PD_qt, lung_nat_MD_qt)"
   ]
  },
  {
   "cell_type": "markdown",
   "id": "27b119f9",
   "metadata": {},
   "source": [
    "#### Filter out genes that has labels"
   ]
  },
  {
   "cell_type": "code",
   "execution_count": 40,
   "id": "e320fbeb",
   "metadata": {},
   "outputs": [],
   "source": [
    "# Open the labels data\n",
    "LFP = 'markers.txt'\n",
    "lung_nat_LD = pd.read_csv(filepath_or_buffer=label_path+LFP,sep='\\t')\n",
    "\n",
    "# Data set wrangling\n",
    "lung_nat_LD.index = lung_nat_LD.loc[:,'Protein']\n",
    "lung_nat_LD = lung_nat_LD.loc[:,lung_nat_LD.columns!='Protein']\n",
    "\n",
    "# Remove unclassified class\n",
    "NotUnclassInd = lung_nat_LD.loc[:,'Localization'] != 'Unclassified'\n",
    "lung_nat_LD = lung_nat_LD.loc[NotUnclassInd,:]"
   ]
  },
  {
   "cell_type": "code",
   "execution_count": 41,
   "id": "a4fb487d",
   "metadata": {},
   "outputs": [
    {
     "name": "stdout",
     "output_type": "stream",
     "text": [
      "LCSCC nat\n",
      "2789\n",
      "2789\n",
      "2789\n"
     ]
    }
   ],
   "source": [
    "# Keep only genes (rows) are presented in proteome, mRNA and localization data sets\n",
    "IntersectingGenes = [value for value in lung_nat_PD_kde.index if ((value in lung_nat_MD_kde.index) & (value in lung_nat_LD.index))]\n",
    "lung_nat_PD_kde = lung_nat_PD_kde.loc[IntersectingGenes,:]\n",
    "lung_nat_MD_kde = lung_nat_MD_kde.loc[IntersectingGenes,:]\n",
    "lung_nat_LD = lung_nat_LD.loc[IntersectingGenes,:]\n",
    "\n",
    "# Sanity check for the number of genes in each dataframe\n",
    "print('LCSCC nat')\n",
    "print(len(lung_nat_PD_kde.index))\n",
    "print(len(lung_nat_MD_kde.index))\n",
    "print(len(lung_nat_LD.index))"
   ]
  },
  {
   "cell_type": "code",
   "execution_count": 42,
   "id": "016e8b89",
   "metadata": {},
   "outputs": [
    {
     "name": "stdout",
     "output_type": "stream",
     "text": [
      "Number of genes in each localization class:\n",
      "Localization\n",
      "Cytosol         1036\n",
      "Secretory        864\n",
      "Nucleus          624\n",
      "Mitochondria     265\n",
      "Name: count, dtype: int64\n"
     ]
    }
   ],
   "source": [
    "# Count the number of genes in each localization class\n",
    "LocalizationCounts = lung_nat_LD.loc[:,'Localization'].value_counts()\n",
    "print('Number of genes in each localization class:')\n",
    "print(LocalizationCounts)"
   ]
  },
  {
   "cell_type": "markdown",
   "id": "4d7bf841",
   "metadata": {},
   "source": [
    "### Preparing data for Gliomas"
   ]
  },
  {
   "cell_type": "markdown",
   "id": "c3d34d3c",
   "metadata": {},
   "source": [
    "#### Raw data processing"
   ]
  },
  {
   "cell_type": "code",
   "execution_count": 43,
   "id": "b5573e8d",
   "metadata": {},
   "outputs": [],
   "source": [
    "# Open the proteomics data and only keep genes (rows) that are fully quantified\n",
    "glioma_tumor_PFP = 'glioma prot model use.csv' # MSFragger search, abundances are ratio of channel to pool, no transformation\n",
    "glioma_tumor_PD = pd.read_csv(raw_data_path+glioma_tumor_PFP, index_col=0) # Shape (13295, 150)\n",
    "\n",
    "# Remove columns that contain 'Disqualified' \n",
    "glioma_tumor_PD = glioma_tumor_PD.loc[:,~glioma_tumor_PD.columns.str.contains('Disqualified')] # Shape (13295, 148)\n",
    "\n",
    "# Remove columns that contain 'Recurrent'\n",
    "glioma_tumor_PD = glioma_tumor_PD.loc[:,~glioma_tumor_PD.columns.str.contains('Recurrent')] # Shape (13295, 123)\n",
    "\n",
    "# Remove columns that contain 'Metastatic'\n",
    "glioma_tumor_PD = glioma_tumor_PD.loc[:,~glioma_tumor_PD.columns.str.contains('Metastatic')] # Shape (13295, 111)\n",
    "\n",
    "# Remove columns that contain 'Solid-Tissue-Normal'\n",
    "glioma_tumor_PD = glioma_tumor_PD.loc[:,~glioma_tumor_PD.columns.str.contains('Solid-Tissue-Normal')] # Shape (13295, 103)\n",
    "\n",
    "# Check if how many columns contain 'ref2'\n",
    "glioma_tumor_PD = glioma_tumor_PD.loc[:,~glioma_tumor_PD.columns.str.contains('ref2')] # Shape (13295, 102)\n",
    "\n",
    "# Modify the column names to remove '-Primary-Tumor'\n",
    "glioma_tumor_PD.columns = glioma_tumor_PD.columns.str.replace('-Primary-Tumor', '') # Shape (13295, 102)\n",
    "\n",
    "# Remove NA\n",
    "glioma_tumor_PD.dropna(inplace=True) # Shape (8589, 102)\n",
    "\n",
    "# Check if any index is duplicated, if so, average the duplicates\n",
    "glioma_tumor_PD = glioma_tumor_PD.groupby(glioma_tumor_PD.index).mean() # Shape (8580, 102)\n",
    "\n",
    "# Sort the column names in the dataframe\n",
    "glioma_tumor_PD = glioma_tumor_PD.reindex(sorted(glioma_tumor_PD.columns), axis=1) # Shape (8580, 102)"
   ]
  },
  {
   "cell_type": "code",
   "execution_count": 44,
   "id": "93c3c0f5",
   "metadata": {},
   "outputs": [],
   "source": [
    "# Open the mRNA data and only keep genes (rows) that are fully quantified\n",
    "glioma_tumor_MFP = 'glioma mrna model use.csv' # TPM data, untransformed\n",
    "glioma_tumor_MD = pd.read_csv(raw_data_path+glioma_tumor_MFP, index_col=0) # Shape (19938, 203)\n",
    "\n",
    "# Data set wrangling\n",
    "glioma_tumor_MD.dropna(inplace=True) # Shape (19938, 203)\n",
    "\n",
    "# Drop if any gene that contains 0 read of TPM\n",
    "glioma_tumor_MD = glioma_tumor_MD.loc[~(glioma_tumor_MD==0).any(axis=1)] # Shape (15010, 203)\n",
    "\n",
    "# Check if any index is duplicated, if so, average the duplicates\n",
    "glioma_tumor_MD = glioma_tumor_MD.groupby(glioma_tumor_MD.index).mean() # Shape (15010, 203)\n",
    "\n",
    "# Sort the column names in the dataframe\n",
    "glioma_tumor_MD = glioma_tumor_MD.reindex(sorted(glioma_tumor_MD.columns), axis=1) # Shape (15010, 203)"
   ]
  },
  {
   "cell_type": "code",
   "execution_count": 45,
   "id": "d5fc9bfa",
   "metadata": {},
   "outputs": [],
   "source": [
    "# get the column names that are common in proteome and mRNA data sets\n",
    "common_col = [col for col in glioma_tumor_PD.columns if col in glioma_tumor_MD.columns]\n",
    "\n",
    "# filter the columns in both data sets\n",
    "glioma_tumor_PD = glioma_tumor_PD.loc[:,common_col] # shape (8580, 99)\n",
    "glioma_tumor_MD = glioma_tumor_MD.loc[:,common_col] # shape (15010, 99)"
   ]
  },
  {
   "cell_type": "markdown",
   "id": "7e32c1f5",
   "metadata": {},
   "source": [
    "#### Normalization"
   ]
  },
  {
   "cell_type": "code",
   "execution_count": 46,
   "id": "eec9380b",
   "metadata": {},
   "outputs": [],
   "source": [
    "# Visualize the processed data with boxplot and histogram\n",
    "glioma_tumor_PD_norm = Normalization(glioma_tumor_PD)\n",
    "glioma_tumor_MD_norm = Normalization(glioma_tumor_MD)"
   ]
  },
  {
   "cell_type": "markdown",
   "id": "92065d42",
   "metadata": {},
   "source": [
    "#### Quantile transfrom"
   ]
  },
  {
   "cell_type": "code",
   "execution_count": 47,
   "id": "daf98f1b",
   "metadata": {},
   "outputs": [],
   "source": [
    "# Quantile transform each tumor\n",
    "glioma_tumor_PD_qt = pd.DataFrame(QuantileTransformer(output_distribution='normal',random_state=42).fit_transform(glioma_tumor_PD_norm), index=glioma_tumor_PD_norm.index, columns=glioma_tumor_PD_norm.columns)\n",
    "glioma_tumor_MD_qt = pd.DataFrame(QuantileTransformer(output_distribution='normal',random_state=43).fit_transform(glioma_tumor_MD_norm), index=glioma_tumor_MD_norm.index, columns=glioma_tumor_MD_norm.columns)"
   ]
  },
  {
   "cell_type": "markdown",
   "id": "bc0a4096",
   "metadata": {},
   "source": [
    "#### Match gene name in proteome and transcriptome"
   ]
  },
  {
   "cell_type": "code",
   "execution_count": 48,
   "id": "5a52b0e9",
   "metadata": {},
   "outputs": [],
   "source": [
    "common_genes = glioma_tumor_PD_qt.index.intersection(glioma_tumor_MD_qt.index)\n",
    "glioma_tumor_PD_qt = glioma_tumor_PD_qt.loc[common_genes]\n",
    "glioma_tumor_MD_qt = glioma_tumor_MD_qt.loc[common_genes]"
   ]
  },
  {
   "cell_type": "markdown",
   "id": "3efb3406",
   "metadata": {},
   "source": [
    "#### Inferencing"
   ]
  },
  {
   "cell_type": "code",
   "execution_count": 49,
   "id": "83fe5d8e",
   "metadata": {},
   "outputs": [
    {
     "name": "stdout",
     "output_type": "stream",
     "text": [
      "Synthetic data generated\n"
     ]
    }
   ],
   "source": [
    "# Ensure reproducibility\n",
    "set_seed(50)\n",
    "\n",
    "# Synthetic tumors using gaussian KDE\n",
    "glioma_tumor_PD_kde, glioma_tumor_MD_kde = Gaussian_KDE(glioma_tumor_PD_qt, glioma_tumor_MD_qt)"
   ]
  },
  {
   "cell_type": "markdown",
   "id": "4a77e1c5",
   "metadata": {},
   "source": [
    "#### Filter out genes that has labels"
   ]
  },
  {
   "cell_type": "code",
   "execution_count": 50,
   "id": "48e0a2ea",
   "metadata": {},
   "outputs": [],
   "source": [
    "# Open the labels data\n",
    "LFP = 'markers.txt'\n",
    "glioma_tumor_LD = pd.read_csv(filepath_or_buffer=label_path+LFP,sep='\\t')\n",
    "\n",
    "# Data set wrangling\n",
    "glioma_tumor_LD.index = glioma_tumor_LD.loc[:,'Protein']\n",
    "glioma_tumor_LD = glioma_tumor_LD.loc[:,glioma_tumor_LD.columns!='Protein']\n",
    "\n",
    "# Remove unclassified class\n",
    "NotUnclassInd = glioma_tumor_LD.loc[:,'Localization'] != 'Unclassified'\n",
    "glioma_tumor_LD = glioma_tumor_LD.loc[NotUnclassInd,:]"
   ]
  },
  {
   "cell_type": "code",
   "execution_count": 51,
   "id": "ff8006f3",
   "metadata": {},
   "outputs": [
    {
     "name": "stdout",
     "output_type": "stream",
     "text": [
      "glioma tumor\n",
      "2679\n",
      "2679\n",
      "2679\n"
     ]
    }
   ],
   "source": [
    "# Keep only genes (rows) are presented in proteome, mRNA and localization data sets\n",
    "IntersectingGenes = [value for value in glioma_tumor_PD_kde.index if ((value in glioma_tumor_MD_kde.index) & (value in glioma_tumor_LD.index))]\n",
    "glioma_tumor_PD_kde = glioma_tumor_PD_kde.loc[IntersectingGenes,:]\n",
    "glioma_tumor_MD_kde = glioma_tumor_MD_kde.loc[IntersectingGenes,:]\n",
    "glioma_tumor_LD = glioma_tumor_LD.loc[IntersectingGenes,:]\n",
    "\n",
    "# Sanity check for the number of genes in each dataframe\n",
    "print('glioma tumor')\n",
    "print(len(glioma_tumor_PD_kde.index))\n",
    "print(len(glioma_tumor_MD_kde.index))\n",
    "print(len(glioma_tumor_LD.index))"
   ]
  },
  {
   "cell_type": "code",
   "execution_count": 52,
   "id": "34b57952",
   "metadata": {},
   "outputs": [
    {
     "name": "stdout",
     "output_type": "stream",
     "text": [
      "Localization\n",
      "Cytosol         1013\n",
      "Secretory        847\n",
      "Nucleus          553\n",
      "Mitochondria     266\n",
      "Name: count, dtype: int64\n"
     ]
    }
   ],
   "source": [
    "# count the number of different labels\n",
    "print(glioma_tumor_LD['Localization'].value_counts())"
   ]
  },
  {
   "cell_type": "markdown",
   "id": "92bac864",
   "metadata": {},
   "source": [
    "### Export"
   ]
  },
  {
   "cell_type": "markdown",
   "id": "86875c9e",
   "metadata": {},
   "source": [
    "#### Krug"
   ]
  },
  {
   "cell_type": "code",
   "execution_count": null,
   "id": "f9effa5f",
   "metadata": {},
   "outputs": [],
   "source": [
    "# Export\n",
    "PD_kde.to_csv(Path(output_path + 'K_PD_synthetic_kde_june.csv'))\n",
    "MD_kde.to_csv(Path(output_path + 'K_MD_synthetic_kde_june.csv'))"
   ]
  },
  {
   "cell_type": "markdown",
   "id": "eeeded15",
   "metadata": {},
   "source": [
    "#### Mertins"
   ]
  },
  {
   "cell_type": "code",
   "execution_count": null,
   "id": "dd2de3e5",
   "metadata": {},
   "outputs": [],
   "source": [
    "# Export\n",
    "M_PD_kde.to_csv(Path(output_path + 'M_PD_synthetic_kde_june.csv'))\n",
    "M_MD_kde.to_csv(Path(output_path + 'M_MD_synthetic_kde_june.csv'))"
   ]
  },
  {
   "cell_type": "markdown",
   "id": "ae32fd16",
   "metadata": {},
   "source": [
    "#### LCSCC Tumor"
   ]
  },
  {
   "cell_type": "code",
   "execution_count": null,
   "id": "2cb21772",
   "metadata": {},
   "outputs": [],
   "source": [
    "# Export\n",
    "lung_tumor_PD_kde.to_csv(Path(output_path + 'lung_tumor_PD_synthetic_kde_june.csv'))\n",
    "lung_tumor_MD_kde.to_csv(Path(output_path + 'lung_tumor_MD_synthetic_kde_june.csv'))"
   ]
  },
  {
   "cell_type": "markdown",
   "id": "707a48ab",
   "metadata": {},
   "source": [
    "#### LCSCC NAT"
   ]
  },
  {
   "cell_type": "code",
   "execution_count": null,
   "id": "1bbffba2",
   "metadata": {},
   "outputs": [],
   "source": [
    "# Export\n",
    "lung_nat_PD_kde.to_csv(Path(output_path + 'lung_nat_PD_synthetic_kde_june.csv'))\n",
    "lung_nat_MD_kde.to_csv(Path(output_path + 'lung_nat_MD_synthetic_kde_june.csv'))"
   ]
  },
  {
   "cell_type": "markdown",
   "id": "0b20b15b",
   "metadata": {},
   "source": [
    "#### Brain glioma"
   ]
  },
  {
   "cell_type": "code",
   "execution_count": null,
   "id": "cb5d4276",
   "metadata": {},
   "outputs": [],
   "source": [
    "# Export\n",
    "glioma_tumor_PD_kde.to_csv(Path(output_path + 'glioma_tumor_PD_synthetic_kde_june.csv'))\n",
    "glioma_tumor_MD_kde.to_csv(Path(output_path + 'glioma_tumor_MD_synthetic_kde_june.csv'))"
   ]
  }
 ],
 "metadata": {
  "kernelspec": {
   "display_name": "pytorch",
   "language": "python",
   "name": "python3"
  },
  "language_info": {
   "codemirror_mode": {
    "name": "ipython",
    "version": 3
   },
   "file_extension": ".py",
   "mimetype": "text/x-python",
   "name": "python",
   "nbconvert_exporter": "python",
   "pygments_lexer": "ipython3",
   "version": "3.11.11"
  }
 },
 "nbformat": 4,
 "nbformat_minor": 5
}
